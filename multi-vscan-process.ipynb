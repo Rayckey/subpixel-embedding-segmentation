{
 "cells": [
  {
   "cell_type": "code",
   "execution_count": 15,
   "metadata": {},
   "outputs": [],
   "source": [
    "from PIL import Image\n",
    "import numpy as np\n",
    "import os, sys\n",
    "import glob\n",
    "import matplotlib.pyplot as plt\n",
    "from src import data_utils"
   ]
  },
  {
   "cell_type": "code",
   "execution_count": 16,
   "metadata": {},
   "outputs": [],
   "source": [
    "image_paths = glob.glob(os.path.join(\"data\", \"RPE-vscans\",\"Original2\", \"*\", \"*.png\"))\n",
    "mask1_paths = glob.glob(os.path.join(\"data\", \"RPE-vscans\",\"Masks_RPE\", \"*\", \"*.png\"))\n",
    "mask2_paths = glob.glob(os.path.join(\"data\", \"RPE-vscans\",\"Masks_Retina\", \"*\", \"*.png\"))\n",
    "\n",
    "image_paths = sorted(image_paths)\n",
    "mask1_paths = sorted(mask1_paths)\n",
    "mask2_paths = sorted(mask2_paths)"
   ]
  },
  {
   "cell_type": "code",
   "execution_count": 17,
   "metadata": {},
   "outputs": [],
   "source": [
    "assert len(mask1_paths) == len(mask2_paths)\n",
    "\n",
    "for mask_idx in range(len(mask1_paths)):\n",
    "    mask1 = Image.open(mask1_paths[mask_idx])\n",
    "    mask1 = np.array(mask1)\n",
    "    mask1 = np.expand_dims(mask1, axis=-1)\n",
    "\n",
    "    mask2 = Image.open(mask2_paths[mask_idx])\n",
    "    mask2 = np.array(mask2)\n",
    "    mask2 = np.expand_dims(mask2, axis=-1)\n",
    "\n",
    "    assert mask1.shape == mask2.shape\n",
    "\n",
    "    mask1[mask2 >= 1] = 2\n",
    "    mask1[mask1 >= 1] = 1\n",
    "    mask1[mask1 < 1] = 0\n",
    "\n",
    "    mask_save_path = mask1_paths[mask_idx].replace(\"RPE-vscans\", \"multi-vscans-derived\")\n",
    "    mask_save_path = mask_save_path.replace(\".png\", \".npy\")\n",
    "    if not os.path.exists(os.path.dirname(mask_save_path)):\n",
    "        os.makedirs(os.path.dirname(mask_save_path)) \n",
    "    \n",
    "    np.save(mask_save_path, mask1)\n",
    "\n",
    "for image_path in image_paths:\n",
    "    image = Image.open(image_path)\n",
    "    image = np.array(image)\n",
    "    image = np.expand_dims(image, axis=-1)\n",
    "\n",
    "    image_save_path = image_path.replace(\"RPE-vscans\", \"multi-vscans-derived\")\n",
    "    image_save_path = image_save_path.replace(\".png\", \".npy\")\n",
    "    if not os.path.exists(os.path.dirname(image_save_path)):\n",
    "        os.makedirs(os.path.dirname(image_save_path)) \n",
    "    np.save(image_save_path, image)"
   ]
  },
  {
   "cell_type": "code",
   "execution_count": 18,
   "metadata": {},
   "outputs": [],
   "source": [
    "train_image_paths = []\n",
    "val_image_paths = []\n",
    "train_mask_paths = []\n",
    "val_mask_paths = []\n",
    "\n",
    "for image_path in glob.glob(os.path.join(\"data\", \"multi-vscans-derived\",\"Original2\", \"*\", \"*.npy\")):\n",
    "    if image_path.split(os.path.sep)[3] in [\"13\", \"14\", \"15\"]:\n",
    "        train_image_paths.append(image_path)\n",
    "    else:\n",
    "        val_image_paths.append(image_path)\n",
    "\n",
    "for mask_path in glob.glob(os.path.join(\"data\", \"multi-vscans-derived\",\"Masks_RPE\", \"*\", \"*.npy\")):\n",
    "    if mask_path.split(os.path.sep)[3] in [\"13\", \"14\", \"15\"]:\n",
    "        train_mask_paths.append(mask_path)\n",
    "    else:\n",
    "        val_mask_paths.append(mask_path)\n",
    "\n",
    "data_utils.write_paths(os.path.join(\"training\", \"multi-vscans-train-images.txt\"), train_image_paths)\n",
    "data_utils.write_paths(os.path.join(\"training\", \"multi-vscans-train-masks.txt\"), train_mask_paths)\n",
    "data_utils.write_paths(os.path.join(\"validation\", \"multi-vscans-val-images.txt\"), val_image_paths)\n",
    "data_utils.write_paths(os.path.join(\"validation\", \"multi-vscans-val-masks.txt\"), val_mask_paths)"
   ]
  },
  {
   "cell_type": "code",
   "execution_count": 19,
   "metadata": {},
   "outputs": [
    {
     "name": "stdout",
     "output_type": "stream",
     "text": [
      "(638, 1024, 400)\n",
      "47.034603\n",
      "22.447832\n"
     ]
    }
   ],
   "source": [
    "all_images = []\n",
    "for image_path in image_paths:\n",
    "    image = Image.open(image_path)\n",
    "    image = np.array(image).astype(np.float32)\n",
    "\n",
    "    all_images.append(image)\n",
    "    \n",
    "all_images = np.stack(all_images, 0)\n",
    "print(all_images.shape)\n",
    "print(np.mean(all_images))\n",
    "print(np.std(all_images))\n",
    "\n",
    "    "
   ]
  },
  {
   "cell_type": "code",
   "execution_count": null,
   "metadata": {},
   "outputs": [],
   "source": []
  },
  {
   "cell_type": "code",
   "execution_count": null,
   "metadata": {},
   "outputs": [],
   "source": []
  }
 ],
 "metadata": {
  "kernelspec": {
   "display_name": "torch180-py38env",
   "language": "python",
   "name": "python3"
  },
  "language_info": {
   "codemirror_mode": {
    "name": "ipython",
    "version": 3
   },
   "file_extension": ".py",
   "mimetype": "text/x-python",
   "name": "python",
   "nbconvert_exporter": "python",
   "pygments_lexer": "ipython3",
   "version": "3.8.10"
  },
  "orig_nbformat": 4
 },
 "nbformat": 4,
 "nbformat_minor": 2
}
