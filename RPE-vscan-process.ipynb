{
 "cells": [
  {
   "cell_type": "code",
   "execution_count": 7,
   "metadata": {},
   "outputs": [],
   "source": [
    "from PIL import Image\n",
    "import numpy as np\n",
    "import os, sys\n",
    "import glob\n",
    "import matplotlib.pyplot as plt\n",
    "from src import data_utils"
   ]
  },
  {
   "cell_type": "code",
   "execution_count": 8,
   "metadata": {},
   "outputs": [],
   "source": [
    "image_paths = glob.glob(os.path.join(\"data\", \"RPE-vscans\",\"original_vscan\", \"*\", \"*.png\"))\n",
    "mask_paths = glob.glob(os.path.join(\"data\", \"RPE-vscans\",\"Masks_vscan\", \"*\", \"*.png\"))\n",
    "\n",
    "image_paths = sorted(image_paths)\n",
    "mask_paths = sorted(mask_paths)"
   ]
  },
  {
   "cell_type": "code",
   "execution_count": 9,
   "metadata": {},
   "outputs": [],
   "source": [
    "for mask_path in mask_paths:\n",
    "    mask = Image.open(mask_path)\n",
    "    mask = np.array(mask)\n",
    "    mask = np.expand_dims(mask, axis=-1)\n",
    "\n",
    "    mask[mask >= 1] = 1\n",
    "    mask[mask < 1] = 0\n",
    "\n",
    "    mask_save_path = mask_path.replace(\"RPE-vscans\", \"RPE-vscans-derived\")\n",
    "    mask_save_path = mask_save_path.replace(\".png\", \".npy\")\n",
    "    if not os.path.exists(os.path.dirname(mask_save_path)):\n",
    "        os.makedirs(os.path.dirname(mask_save_path)) \n",
    "    \n",
    "    np.save(mask_save_path, mask)\n",
    "\n",
    "for image_path in image_paths:\n",
    "    image = Image.open(image_path)\n",
    "    image = np.array(image)\n",
    "    image = np.expand_dims(image, axis=-1)\n",
    "\n",
    "    image_save_path = image_path.replace(\"RPE-vscans\", \"RPE-vscans-derived\")\n",
    "    image_save_path = image_save_path.replace(\".png\", \".npy\")\n",
    "    if not os.path.exists(os.path.dirname(image_save_path)):\n",
    "        os.makedirs(os.path.dirname(image_save_path)) \n",
    "    np.save(image_save_path, image)"
   ]
  },
  {
   "cell_type": "code",
   "execution_count": 10,
   "metadata": {},
   "outputs": [],
   "source": [
    "train_image_paths = []\n",
    "val_image_paths = []\n",
    "train_mask_paths = []\n",
    "val_mask_paths = []\n",
    "\n",
    "for image_path in glob.glob(os.path.join(\"data\", \"RPE-vscans-derived\",\"original_vscan\", \"*\", \"*.npy\")):\n",
    "    if image_path.split(os.path.sep)[3] in [\"0\", \"1\", \"2\"]:\n",
    "        train_image_paths.append(image_path)\n",
    "    else:\n",
    "        val_image_paths.append(image_path)\n",
    "\n",
    "for mask_path in glob.glob(os.path.join(\"data\", \"RPE-vscans-derived\",\"Masks_vscan\", \"*\", \"*.npy\")):\n",
    "    if mask_path.split(os.path.sep)[3] in [\"0\", \"1\", \"2\"]:\n",
    "        train_mask_paths.append(mask_path)\n",
    "    else:\n",
    "        val_mask_paths.append(mask_path)\n",
    "\n",
    "data_utils.write_paths(os.path.join(\"training\", \"RPE-vscans-train-images.txt\"), train_image_paths)\n",
    "data_utils.write_paths(os.path.join(\"training\", \"RPE-vscans-train-masks.txt\"), train_mask_paths)\n",
    "data_utils.write_paths(os.path.join(\"validation\", \"RPE-vscans-val-images.txt\"), val_image_paths)\n",
    "data_utils.write_paths(os.path.join(\"validation\", \"RPE-vscans-val-masks.txt\"), val_mask_paths)"
   ]
  },
  {
   "cell_type": "code",
   "execution_count": 11,
   "metadata": {},
   "outputs": [
    {
     "name": "stdout",
     "output_type": "stream",
     "text": [
      "(730, 1024, 400)\n",
      "47.119747\n",
      "22.61012\n"
     ]
    }
   ],
   "source": [
    "all_images = []\n",
    "for image_path in image_paths:\n",
    "    image = Image.open(image_path)\n",
    "    image = np.array(image).astype(np.float32)\n",
    "\n",
    "    all_images.append(image)\n",
    "    \n",
    "all_images = np.stack(all_images, 0)\n",
    "print(all_images.shape)\n",
    "print(np.mean(all_images))\n",
    "print(np.std(all_images))\n",
    "\n",
    "    "
   ]
  },
  {
   "cell_type": "code",
   "execution_count": null,
   "metadata": {},
   "outputs": [],
   "source": []
  },
  {
   "cell_type": "code",
   "execution_count": null,
   "metadata": {},
   "outputs": [],
   "source": []
  }
 ],
 "metadata": {
  "kernelspec": {
   "display_name": "torch180-py38env",
   "language": "python",
   "name": "python3"
  },
  "language_info": {
   "codemirror_mode": {
    "name": "ipython",
    "version": 3
   },
   "file_extension": ".py",
   "mimetype": "text/x-python",
   "name": "python",
   "nbconvert_exporter": "python",
   "pygments_lexer": "ipython3",
   "version": "3.8.10"
  },
  "orig_nbformat": 4
 },
 "nbformat": 4,
 "nbformat_minor": 2
}
